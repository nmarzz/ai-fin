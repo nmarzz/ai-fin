{
 "cells": [
  {
   "cell_type": "code",
   "execution_count": 2,
   "metadata": {
    "collapsed": false
   },
   "outputs": [
    {
     "name": "stdout",
     "output_type": "stream",
     "text": [
      "Requirement already satisfied: pyfolio in /Users/nm/.pyenv/versions/3.7.3/lib/python3.7/site-packages (0.9.2)\n",
      "Requirement already satisfied: empyrical>=0.5.0 in /Users/nm/.pyenv/versions/3.7.3/lib/python3.7/site-packages (from pyfolio) (0.5.5)\n",
      "Requirement already satisfied: ipython>=3.2.3 in /Users/nm/.pyenv/versions/3.7.3/lib/python3.7/site-packages (from pyfolio) (7.20.0)\n",
      "Requirement already satisfied: matplotlib>=1.4.0 in /Users/nm/.pyenv/versions/3.7.3/lib/python3.7/site-packages (from pyfolio) (3.3.2)\n",
      "Requirement already satisfied: numpy>=1.11.1 in /Users/nm/.pyenv/versions/3.7.3/lib/python3.7/site-packages (from pyfolio) (1.19.2)\n",
      "Requirement already satisfied: pytz>=2014.10 in /Users/nm/.pyenv/versions/3.7.3/lib/python3.7/site-packages (from pyfolio) (2020.4)\n",
      "Requirement already satisfied: scikit-learn>=0.16.1 in /Users/nm/.pyenv/versions/3.7.3/lib/python3.7/site-packages (from pyfolio) (0.23.2)\n",
      "Requirement already satisfied: seaborn>=0.7.1 in /Users/nm/.pyenv/versions/3.7.3/lib/python3.7/site-packages (from pyfolio) (0.11.1)\n",
      "Requirement already satisfied: pandas>=0.18.1 in /Users/nm/.pyenv/versions/3.7.3/lib/python3.7/site-packages (from pyfolio) (1.1.4)\n",
      "Requirement already satisfied: scipy>=0.14.0 in /Users/nm/.pyenv/versions/3.7.3/lib/python3.7/site-packages (from pyfolio) (1.5.2)\n",
      "Requirement already satisfied: pandas-datareader>=0.2 in /Users/nm/.pyenv/versions/3.7.3/lib/python3.7/site-packages (from empyrical>=0.5.0->pyfolio) (0.9.0)\n",
      "Requirement already satisfied: jedi>=0.16 in /Users/nm/.pyenv/versions/3.7.3/lib/python3.7/site-packages (from ipython>=3.2.3->pyfolio) (0.17.2)\n",
      "Requirement already satisfied: prompt-toolkit!=3.0.0,!=3.0.1,<3.1.0,>=2.0.0 in /Users/nm/.pyenv/versions/3.7.3/lib/python3.7/site-packages (from ipython>=3.2.3->pyfolio) (3.0.8)\n",
      "Requirement already satisfied: pexpect>4.3; sys_platform != \"win32\" in /Users/nm/.pyenv/versions/3.7.3/lib/python3.7/site-packages (from ipython>=3.2.3->pyfolio) (4.8.0)\n",
      "Requirement already satisfied: decorator in /Users/nm/.pyenv/versions/3.7.3/lib/python3.7/site-packages (from ipython>=3.2.3->pyfolio) (4.4.2)\n",
      "Requirement already satisfied: appnope; sys_platform == \"darwin\" in /Users/nm/.pyenv/versions/3.7.3/lib/python3.7/site-packages (from ipython>=3.2.3->pyfolio) (0.1.0)\n",
      "Requirement already satisfied: pickleshare in /Users/nm/.pyenv/versions/3.7.3/lib/python3.7/site-packages (from ipython>=3.2.3->pyfolio) (0.7.5)\n",
      "Requirement already satisfied: backcall in /Users/nm/.pyenv/versions/3.7.3/lib/python3.7/site-packages (from ipython>=3.2.3->pyfolio) (0.2.0)\n",
      "Requirement already satisfied: setuptools>=18.5 in /Users/nm/.pyenv/versions/3.7.3/lib/python3.7/site-packages (from ipython>=3.2.3->pyfolio) (50.3.2)\n",
      "Requirement already satisfied: traitlets>=4.2 in /Users/nm/.pyenv/versions/3.7.3/lib/python3.7/site-packages (from ipython>=3.2.3->pyfolio) (5.0.5)\n",
      "Requirement already satisfied: pygments in /Users/nm/.pyenv/versions/3.7.3/lib/python3.7/site-packages (from ipython>=3.2.3->pyfolio) (2.7.2)\n",
      "Requirement already satisfied: pyparsing!=2.0.4,!=2.1.2,!=2.1.6,>=2.0.3 in /Users/nm/.pyenv/versions/3.7.3/lib/python3.7/site-packages (from matplotlib>=1.4.0->pyfolio) (2.4.7)\n",
      "Requirement already satisfied: cycler>=0.10 in /Users/nm/.pyenv/versions/3.7.3/lib/python3.7/site-packages (from matplotlib>=1.4.0->pyfolio) (0.10.0)\n",
      "Requirement already satisfied: certifi>=2020.06.20 in /Users/nm/.pyenv/versions/3.7.3/lib/python3.7/site-packages (from matplotlib>=1.4.0->pyfolio) (2020.6.20)\n",
      "Requirement already satisfied: python-dateutil>=2.1 in /Users/nm/.pyenv/versions/3.7.3/lib/python3.7/site-packages (from matplotlib>=1.4.0->pyfolio) (2.8.1)\n",
      "Requirement already satisfied: kiwisolver>=1.0.1 in /Users/nm/.pyenv/versions/3.7.3/lib/python3.7/site-packages (from matplotlib>=1.4.0->pyfolio) (1.2.0)\n",
      "Requirement already satisfied: pillow>=6.2.0 in /Users/nm/.pyenv/versions/3.7.3/lib/python3.7/site-packages (from matplotlib>=1.4.0->pyfolio) (7.2.0)\n",
      "Requirement already satisfied: joblib>=0.11 in /Users/nm/.local/lib/python3.7/site-packages/joblib-0.14.1-py3.7.egg (from scikit-learn>=0.16.1->pyfolio) (0.14.1)\n",
      "Requirement already satisfied: threadpoolctl>=2.0.0 in /Users/nm/.pyenv/versions/3.7.3/lib/python3.7/site-packages (from scikit-learn>=0.16.1->pyfolio) (2.1.0)\n",
      "Requirement already satisfied: lxml in /Users/nm/.pyenv/versions/3.7.3/lib/python3.7/site-packages (from pandas-datareader>=0.2->empyrical>=0.5.0->pyfolio) (4.6.0)\n",
      "Requirement already satisfied: requests>=2.19.0 in /Users/nm/.pyenv/versions/3.7.3/lib/python3.7/site-packages (from pandas-datareader>=0.2->empyrical>=0.5.0->pyfolio) (2.24.0)\n",
      "Requirement already satisfied: parso<0.8.0,>=0.7.0 in /Users/nm/.pyenv/versions/3.7.3/lib/python3.7/site-packages (from jedi>=0.16->ipython>=3.2.3->pyfolio) (0.7.1)\n",
      "Requirement already satisfied: wcwidth in /Users/nm/.pyenv/versions/3.7.3/lib/python3.7/site-packages (from prompt-toolkit!=3.0.0,!=3.0.1,<3.1.0,>=2.0.0->ipython>=3.2.3->pyfolio) (0.2.5)\n",
      "Requirement already satisfied: ptyprocess>=0.5 in /Users/nm/.pyenv/versions/3.7.3/lib/python3.7/site-packages (from pexpect>4.3; sys_platform != \"win32\"->ipython>=3.2.3->pyfolio) (0.6.0)\n",
      "Requirement already satisfied: ipython-genutils in /Users/nm/.pyenv/versions/3.7.3/lib/python3.7/site-packages (from traitlets>=4.2->ipython>=3.2.3->pyfolio) (0.2.0)\n",
      "Requirement already satisfied: six in /Users/nm/.pyenv/versions/3.7.3/lib/python3.7/site-packages (from cycler>=0.10->matplotlib>=1.4.0->pyfolio) (1.15.0)\n",
      "Requirement already satisfied: chardet<4,>=3.0.2 in /Users/nm/.pyenv/versions/3.7.3/lib/python3.7/site-packages (from requests>=2.19.0->pandas-datareader>=0.2->empyrical>=0.5.0->pyfolio) (3.0.4)\n",
      "Requirement already satisfied: urllib3!=1.25.0,!=1.25.1,<1.26,>=1.21.1 in /Users/nm/.pyenv/versions/3.7.3/lib/python3.7/site-packages (from requests>=2.19.0->pandas-datareader>=0.2->empyrical>=0.5.0->pyfolio) (1.25.10)\n",
      "Requirement already satisfied: idna<3,>=2.5 in /Users/nm/.pyenv/versions/3.7.3/lib/python3.7/site-packages (from requests>=2.19.0->pandas-datareader>=0.2->empyrical>=0.5.0->pyfolio) (2.10)\n",
      "\u001b[33mWARNING: You are using pip version 20.2.4; however, version 21.0.1 is available.\n",
      "You should consider upgrading via the '/Users/nm/.pyenv/versions/3.7.3/bin/python3.7 -m pip install --upgrade pip' command.\u001b[0m\n"
     ]
    },
    {
     "ename": "ImportError",
     "evalue": "No module named 'pyfolio'",
     "output_type": "error",
     "traceback": [
      "\u001b[0;31m---------------------------------------------------------------------------\u001b[0m",
      "\u001b[0;31mImportError\u001b[0m                               Traceback (most recent call last)",
      "\u001b[0;32m<ipython-input-2-b7ff63734cf2>\u001b[0m in \u001b[0;36m<module>\u001b[0;34m()\u001b[0m\n\u001b[1;32m      1\u001b[0m \u001b[0mget_ipython\u001b[0m\u001b[0;34m(\u001b[0m\u001b[0;34m)\u001b[0m\u001b[0;34m.\u001b[0m\u001b[0msystem\u001b[0m\u001b[0;34m(\u001b[0m\u001b[0;34m'pip install pyfolio'\u001b[0m\u001b[0;34m)\u001b[0m\u001b[0;34m\u001b[0m\u001b[0m\n\u001b[1;32m      2\u001b[0m \u001b[0;32mimport\u001b[0m \u001b[0msys\u001b[0m\u001b[0;34m\u001b[0m\u001b[0m\n\u001b[0;32m----> 3\u001b[0;31m \u001b[0;32mimport\u001b[0m \u001b[0mpyfolio\u001b[0m\u001b[0;34m\u001b[0m\u001b[0m\n\u001b[0m\u001b[1;32m      4\u001b[0m \u001b[0;34m\u001b[0m\u001b[0m\n\u001b[1;32m      5\u001b[0m \u001b[0;34m\u001b[0m\u001b[0m\n",
      "\u001b[0;31mImportError\u001b[0m: No module named 'pyfolio'"
     ]
    }
   ],
   "source": [
    "!pip install pyfolio\n",
    "import sys\n",
    "import pyfolio\n",
    "\n",
    "\n",
    "import pandas as pd\n",
    "\n",
    "# test_returns = \n",
    "\n",
    "\n",
    "# with pyfolio.plotting.plotting_context(context = \"paper\",font_scale=1.1):\n",
    "#         pyfolio.create_full_tear_sheet(\n",
    "#             returns=test_returns, benchmark_rets=baseline_returns, set_context=False\n",
    "#         )\n"
   ]
  },
  {
   "cell_type": "code",
   "execution_count": null,
   "metadata": {
    "collapsed": true
   },
   "outputs": [],
   "source": []
  }
 ],
 "metadata": {
  "anaconda-cloud": {},
  "kernelspec": {
   "display_name": "Python [default]",
   "language": "python",
   "name": "python3"
  },
  "language_info": {
   "codemirror_mode": {
    "name": "ipython",
    "version": 3
   },
   "file_extension": ".py",
   "mimetype": "text/x-python",
   "name": "python",
   "nbconvert_exporter": "python",
   "pygments_lexer": "ipython3",
   "version": "3.5.2"
  }
 },
 "nbformat": 4,
 "nbformat_minor": 1
}
