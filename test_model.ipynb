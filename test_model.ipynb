{
 "cells": [
  {
   "cell_type": "code",
   "execution_count": 1,
   "metadata": {
    "collapsed": false
   },
   "outputs": [
    {
     "ename": "SyntaxError",
     "evalue": "invalid syntax (<ipython-input-1-97a041442114>, line 72)",
     "output_type": "error",
     "traceback": [
      "\u001b[0;36m  File \u001b[0;32m\"<ipython-input-1-97a041442114>\"\u001b[0;36m, line \u001b[0;32m72\u001b[0m\n\u001b[0;31m    model_params = config.__dict__[f\"{model.upper()}_PARAMS\"]\u001b[0m\n\u001b[0m                                                           ^\u001b[0m\n\u001b[0;31mSyntaxError\u001b[0m\u001b[0;31m:\u001b[0m invalid syntax\n"
     ]
    }
   ],
   "source": [
    "# TODO: Automate model selection better\n",
    "# Set up pipeline into ipynb notebook for backtesting with pyfolio\n",
    "\n",
    "import argparse\n",
    "import sys\n",
    "import os\n",
    "\n",
    "\n",
    "import pandas as pd\n",
    "import numpy as np\n",
    "import matplotlib.pyplot as plt\n",
    "import matplotlib\n",
    "import itertools\n",
    "import pyfolio\n",
    "import re\n",
    "import datetime\n",
    "\n",
    "from finrl.config import config\n",
    "from finrl.marketdata.yahoodownloader import YahooDownloader\n",
    "from finrl.preprocessing.preprocessors import FeatureEngineer\n",
    "from finrl.preprocessing.data import data_split\n",
    "from finrl.env.env_stocktrading import StockTradingEnv\n",
    "from finrl.model.models import DRLAgent,DRLEnsembleAgent\n",
    "from finrl.trade.backtest import backtest_stats, get_baseline, backtest_plot\n",
    "from pprint import pprint\n",
    "\n",
    "from utils.enviroments import StockTradingEnvV2\n",
    "from utils.data_utils import get_dataset\n",
    "from utils.preprocess import get_model_info_from_path\n",
    "from utils.models import EnsembleModel\n",
    "\n",
    "\n",
    "\n",
    "data_dir = 'data'\n",
    "# model_paths = ['models/models/a2c_dow29_steps100000_start2000-01-01_end2018-01-01.model','models/models/ddpg_dow29_steps100000_start2000-01-01_end2018-01-01.model','models/models/ppo_dow29_steps100000_start2000-01-01_end2018-01-01.model','models/models/sac_dow29_steps100000_start2000-01-01_end2018-01-01.model','models/models/td3_dow29_steps100000_start2000-01-01_end2018-01-01.model']\n",
    "model_paths = 'models/models/ppo_dow29_steps100000_start2000-01-01_end2018-01-01.model'\n",
    "start_date,split_date,data_type ,model = get_model_info_from_path(model_paths)\n",
    "\n",
    "end_date = '2020-12-31' # Model is tested from split_date to end_date\n",
    "\n",
    "\n",
    "# Get data\n",
    "df = get_dataset(data_dir,data_type,split_date,end_date)\n",
    "\n",
    "\n",
    "\n",
    "stock_dimension = len(df.tic.unique())\n",
    "indicators = config.TECHNICAL_INDICATORS_LIST\n",
    "\n",
    "state_space = 1 + 2*stock_dimension + len(indicators)*stock_dimension\n",
    "\n",
    "\n",
    "env_kwargs = {\n",
    "    \"hmax\": 500,\n",
    "    \"initial_amount\": 1000000,\n",
    "    \"buy_cost_pct\": 0.001,\n",
    "    \"sell_cost_pct\": 0.001,\n",
    "    \"state_space\": state_space,\n",
    "    \"stock_dim\": stock_dimension,\n",
    "    \"tech_indicator_list\": indicators,\n",
    "    \"action_space\": stock_dimension,\n",
    "    \"reward_scaling\": 1e-4\n",
    "}\n",
    "\n",
    "test_gym_env = StockTradingEnv(df = df,turbulence_threshold = 329, **env_kwargs)\n",
    "agent = DRLAgent(env = test_gym_env)\n",
    "\n",
    "\n",
    "if model == 'ensemble':\n",
    "    trained_model = EnsembleModel(test_gym_env,model_paths,'binaverage')\n",
    "else:\n",
    "    model_params = config.__dict__[f\"{model.upper()}_PARAMS\"]\n",
    "    trained_model = agent.get_model(model,\n",
    "                            model_kwargs = model_params,\n",
    "                            verbose = 0).load(model_paths)\n",
    "\n",
    "\n",
    "\n",
    "print('Testing...')\n",
    "df_account_value, df_actions = DRLAgent.DRL_prediction(\n",
    "    model=trained_model,\n",
    "    environment = test_gym_env)\n",
    "\n",
    "\n",
    "print(df_account_value.shape)\n",
    "\n",
    "\n",
    "\n",
    "def average_predict(model,enviroment,n_evals):\n",
    "    account_value, actions = self.DRL_prediction(model,enviroment)\n"
   ]
  },
  {
   "cell_type": "code",
   "execution_count": null,
   "metadata": {
    "collapsed": true
   },
   "outputs": [],
   "source": []
  }
 ],
 "metadata": {
  "anaconda-cloud": {},
  "kernelspec": {
   "display_name": "Python [conda root]",
   "language": "python",
   "name": "conda-root-py"
  },
  "language_info": {
   "codemirror_mode": {
    "name": "ipython",
    "version": 3
   },
   "file_extension": ".py",
   "mimetype": "text/x-python",
   "name": "python",
   "nbconvert_exporter": "python",
   "pygments_lexer": "ipython3",
   "version": "3.5.2"
  }
 },
 "nbformat": 4,
 "nbformat_minor": 1
}
